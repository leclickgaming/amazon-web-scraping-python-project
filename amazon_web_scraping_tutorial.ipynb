{
 "cells": [
  {
   "cell_type": "code",
   "execution_count": 1,
   "id": "1ba62ef6",
   "metadata": {},
   "outputs": [],
   "source": [
    "from bs4 import BeautifulSoup\n",
    "import requests\n",
    "import pandas as pd"
   ]
  },
  {
   "cell_type": "code",
   "execution_count": 2,
   "id": "84bc42a4",
   "metadata": {},
   "outputs": [],
   "source": [
    "URL = \"https://www.amazon.de/-/en/gp/bestsellers/baby/3968910031/ref=zg_bs_nav_baby_1\""
   ]
  },
  {
   "cell_type": "code",
   "execution_count": 3,
   "id": "41d06b5a",
   "metadata": {},
   "outputs": [],
   "source": [
    "# Headers for request\n",
    "HEADERS = ({'User-Agent':'Mozilla/5.0 (Macintosh; Intel Mac OS X 10_15_7) AppleWebKit/537.36 (KHTML, like Gecko) Chrome/112.0.0.0 Safari/537.36', 'Accept-Language': 'en-US, en;q=0.5'}) #add your user agent "
   ]
  },
  {
   "cell_type": "code",
   "execution_count": 6,
   "id": "942f42fc",
   "metadata": {},
   "outputs": [
    {
     "data": {
      "text/plain": [
       "<Response [200]>"
      ]
     },
     "execution_count": 6,
     "metadata": {},
     "output_type": "execute_result"
    }
   ],
   "source": [
    "# HTTP Request\n",
    "webpage = requests.get(URL, headers=HEADERS)\n",
    "webpage"
   ]
  },
  {
   "cell_type": "code",
   "execution_count": 5,
   "id": "70d1d923",
   "metadata": {},
   "outputs": [
    {
     "data": {
      "text/plain": [
       "bytes"
      ]
     },
     "execution_count": 5,
     "metadata": {},
     "output_type": "execute_result"
    }
   ],
   "source": [
    "type(webpage.content)"
   ]
  },
  {
   "cell_type": "code",
   "execution_count": 8,
   "id": "d792ee49",
   "metadata": {},
   "outputs": [],
   "source": [
    "# Soup Object containiang all data\n",
    "soup = BeautifulSoup(webpage.content, \"html.parser\")"
   ]
  },
  {
   "cell_type": "code",
   "execution_count": 11,
   "id": "d4d6f6c4",
   "metadata": {},
   "outputs": [],
   "source": [
    "# Fetch links as List of Tag Objects\n",
    "links = soup.find_all(\"a\", attrs={'class':'a-link-normal'})"
   ]
  },
  {
   "cell_type": "code",
   "execution_count": 12,
   "id": "23b1776d",
   "metadata": {},
   "outputs": [
    {
     "data": {
      "text/plain": [
       "[<a class=\"a-link-normal\" href=\"/-/en/Big-Bobby-Car-Classic-Red/dp/B00004YTTD/ref=zg_bs_3968910031_sccl_1/258-3517021-7899457?psc=1\" role=\"link\" tabindex=\"-1\"><div class=\"a-section a-spacing-mini _cDEzb_noop_3Xbw5\"><img alt=\"Big Bobby Car Classic - Red\" class=\"a-dynamic-image p13n-sc-dynamic-image p13n-product-image\" data-a-dynamic-image='{\"https://images-eu.ssl-images-amazon.com/images/I/61kAz03jxML._AC_UL300_SR300,200_.jpg\":[300,200],\"https://images-eu.ssl-images-amazon.com/images/I/61kAz03jxML._AC_UL600_SR600,400_.jpg\":[600,400],\"https://images-eu.ssl-images-amazon.com/images/I/61kAz03jxML._AC_UL900_SR900,600_.jpg\":[900,600]}' height=\"200px\" src=\"https://images-eu.ssl-images-amazon.com/images/I/61kAz03jxML._AC_UL300_SR300,200_.jpg\" style=\"max-width:300px;max-height:200px\"/></div></a>,\n",
       " <a class=\"a-link-normal\" href=\"/-/en/Big-Bobby-Car-Classic-Red/dp/B00004YTTD/ref=zg_bs_3968910031_sccl_1/258-3517021-7899457?psc=1\" role=\"link\"><span><div class=\"_cDEzb_p13n-sc-css-line-clamp-3_g3dy1\">Big Bobby Car Classic - Red</div></span></a>,\n",
       " <a class=\"a-link-normal\" href=\"/-/en/product-reviews/B00004YTTD/ref=zg_bs_3968910031_cr_sccl_1/258-3517021-7899457\" title=\"4.8 out of 5 stars\"><i class=\"a-icon a-icon-star-small a-star-small-5 aok-align-top\"><span class=\"a-icon-alt\">4.8 out of 5 stars</span></i> <span class=\"a-size-small\">5,139</span></a>,\n",
       " <a class=\"a-link-normal\" href=\"/-/en/Big-Bobby-Car-Classic-Red/dp/B00004YTTD/ref=zg_bs_3968910031_sccl_1/258-3517021-7899457?psc=1\" role=\"link\"><span class=\"a-color-secondary\">34 offers from <span class=\"a-size-base\"><span class=\"p13n-sc-price\">€33.94</span></span></span></a>,\n",
       " <a class=\"a-link-normal\" href=\"/-/en/NouBaby%C2%AE-Unique-Months-Including-Patches/dp/B0B8ZK4NST/ref=zg_bs_3968910031_sccl_2/258-3517021-7899457?psc=1\" role=\"link\" tabindex=\"-1\"><div class=\"a-section a-spacing-mini _cDEzb_noop_3Xbw5\"><img alt=\"NouBaby® Water Mat Baby BPA Free I Unique Baby Toy from 3, 6 and 9 Months as Water Play Mat or Baby Water Mat Including Patch\" class=\"a-dynamic-image p13n-sc-dynamic-image p13n-product-image\" data-a-dynamic-image='{\"https://images-eu.ssl-images-amazon.com/images/I/918QqgPnNsL._AC_UL300_SR300,200_.jpg\":[300,200],\"https://images-eu.ssl-images-amazon.com/images/I/918QqgPnNsL._AC_UL600_SR600,400_.jpg\":[600,400],\"https://images-eu.ssl-images-amazon.com/images/I/918QqgPnNsL._AC_UL900_SR900,600_.jpg\":[900,600]}' height=\"200px\" src=\"https://images-eu.ssl-images-amazon.com/images/I/918QqgPnNsL._AC_UL300_SR300,200_.jpg\" style=\"max-width:300px;max-height:200px\"/></div></a>,\n",
       " <a class=\"a-link-normal\" href=\"/-/en/NouBaby%C2%AE-Unique-Months-Including-Patches/dp/B0B8ZK4NST/ref=zg_bs_3968910031_sccl_2/258-3517021-7899457?psc=1\" role=\"link\"><span><div class=\"_cDEzb_p13n-sc-css-line-clamp-3_g3dy1\">NouBaby® Water Mat Baby BPA Free I Unique Baby Toy from 3, 6 and 9 Months as Water Play Mat or Baby Water Mat Including Patches</div></span></a>,\n",
       " <a class=\"a-link-normal\" href=\"/-/en/product-reviews/B0B8ZK4NST/ref=zg_bs_3968910031_cr_sccl_2/258-3517021-7899457\" title=\"4.3 out of 5 stars\"><i class=\"a-icon a-icon-star-small a-star-small-4-5 aok-align-top\"><span class=\"a-icon-alt\">4.3 out of 5 stars</span></i> <span class=\"a-size-small\">136</span></a>,\n",
       " <a class=\"a-link-normal\" href=\"/-/en/NouBaby%C2%AE-Unique-Months-Including-Patches/dp/B0B8ZK4NST/ref=zg_bs_3968910031_sccl_2/258-3517021-7899457?psc=1\" role=\"link\"><span class=\"a-color-secondary\">2 offers from <span class=\"a-size-base\"><span class=\"p13n-sc-price\">€15.99</span></span></span></a>,\n",
       " <a class=\"a-link-normal\" href=\"/-/en/Mattel-Fisher-Price-Dream-Bear-Mobile/dp/B00PI0J4CM/ref=zg_bs_3968910031_sccl_3/258-3517021-7899457?psc=1\" role=\"link\" tabindex=\"-1\"><div class=\"a-section a-spacing-mini _cDEzb_noop_3Xbw5\"><img alt=\"Mattel Fisher-Price 3-in-1 Dream Bear Cot Mobile Mobile\" class=\"a-dynamic-image p13n-sc-dynamic-image p13n-product-image\" data-a-dynamic-image='{\"https://images-eu.ssl-images-amazon.com/images/I/61p8Tby+W2L._AC_UL300_SR300,200_.jpg\":[300,200],\"https://images-eu.ssl-images-amazon.com/images/I/61p8Tby+W2L._AC_UL600_SR600,400_.jpg\":[600,400],\"https://images-eu.ssl-images-amazon.com/images/I/61p8Tby+W2L._AC_UL900_SR900,600_.jpg\":[900,600]}' height=\"200px\" src=\"https://images-eu.ssl-images-amazon.com/images/I/61p8Tby+W2L._AC_UL300_SR300,200_.jpg\" style=\"max-width:300px;max-height:200px\"/></div></a>,\n",
       " <a class=\"a-link-normal\" href=\"/-/en/Mattel-Fisher-Price-Dream-Bear-Mobile/dp/B00PI0J4CM/ref=zg_bs_3968910031_sccl_3/258-3517021-7899457?psc=1\" role=\"link\"><span><div class=\"_cDEzb_p13n-sc-css-line-clamp-3_g3dy1\">Mattel Fisher-Price 3-in-1 Dream Bear Cot Mobile Mobile</div></span></a>,\n",
       " <a class=\"a-link-normal\" href=\"/-/en/product-reviews/B00PI0J4CM/ref=zg_bs_3968910031_cr_sccl_3/258-3517021-7899457\" title=\"4.4 out of 5 stars\"><i class=\"a-icon a-icon-star-small a-star-small-4-5 aok-align-top\"><span class=\"a-icon-alt\">4.4 out of 5 stars</span></i> <span class=\"a-size-small\">23,954</span></a>,\n",
       " <a class=\"a-link-normal\" href=\"/-/en/Mattel-Fisher-Price-Dream-Bear-Mobile/dp/B00PI0J4CM/ref=zg_bs_3968910031_sccl_3/258-3517021-7899457?psc=1\" role=\"link\"><span class=\"a-color-secondary\">38 offers from <span class=\"a-size-base\"><span class=\"p13n-sc-price\">€25.23</span></span></span></a>,\n",
       " <a class=\"a-link-normal\" href=\"/-/en/Infantino-Musical-Mobile-Projector-white/dp/B00VAKUKC2/ref=zg_bs_3968910031_sccl_4/258-3517021-7899457?psc=1\" role=\"link\" tabindex=\"-1\"><div class=\"a-section a-spacing-mini _cDEzb_noop_3Xbw5\"><img alt=\"Infantino 3-in-1 Musical Mobile and Projector grey / white\" class=\"a-dynamic-image p13n-sc-dynamic-image p13n-product-image\" data-a-dynamic-image='{\"https://images-eu.ssl-images-amazon.com/images/I/61aLviTfCSL._AC_UL300_SR300,200_.jpg\":[300,200],\"https://images-eu.ssl-images-amazon.com/images/I/61aLviTfCSL._AC_UL600_SR600,400_.jpg\":[600,400],\"https://images-eu.ssl-images-amazon.com/images/I/61aLviTfCSL._AC_UL900_SR900,600_.jpg\":[900,600]}' height=\"200px\" src=\"https://images-eu.ssl-images-amazon.com/images/I/61aLviTfCSL._AC_UL300_SR300,200_.jpg\" style=\"max-width:300px;max-height:200px\"/></div></a>,\n",
       " <a class=\"a-link-normal\" href=\"/-/en/Infantino-Musical-Mobile-Projector-white/dp/B00VAKUKC2/ref=zg_bs_3968910031_sccl_4/258-3517021-7899457?psc=1\" role=\"link\"><span><div class=\"_cDEzb_p13n-sc-css-line-clamp-3_g3dy1\">Infantino 3-in-1 Musical Mobile and Projector grey / white</div></span></a>,\n",
       " <a class=\"a-link-normal\" href=\"/-/en/product-reviews/B00VAKUKC2/ref=zg_bs_3968910031_cr_sccl_4/258-3517021-7899457\" title=\"4.2 out of 5 stars\"><i class=\"a-icon a-icon-star-small a-star-small-4 aok-align-top\"><span class=\"a-icon-alt\">4.2 out of 5 stars</span></i> <span class=\"a-size-small\">4,517</span></a>,\n",
       " <a class=\"a-link-normal\" href=\"/-/en/Infantino-Musical-Mobile-Projector-white/dp/B00VAKUKC2/ref=zg_bs_3968910031_sccl_4/258-3517021-7899457?psc=1\" role=\"link\"><span class=\"a-color-secondary\">22 offers from <span class=\"a-size-base\"><span class=\"p13n-sc-price\">€21.33</span></span></span></a>,\n",
       " <a class=\"a-link-normal\" href=\"/-/en/Hanging-Pendant-Mobile-Childrens-Nursery/dp/B0B8YPPH4P/ref=zg_bs_3968910031_sccl_5/258-3517021-7899457?psc=1\" role=\"link\" tabindex=\"-1\"><div class=\"a-section a-spacing-mini _cDEzb_noop_3Xbw5\"><img alt=\"Baby Wind Crib Chime with Felt Balls, 3D Cloud Doll, Hanging Bed Bell Pendant, Mobile Game for Children’s Nursery, Bed Decor \" class=\"a-dynamic-image p13n-sc-dynamic-image p13n-product-image\" data-a-dynamic-image='{\"https://images-eu.ssl-images-amazon.com/images/I/41T7b2RxVlL._AC_UL300_SR300,200_.jpg\":[300,200],\"https://images-eu.ssl-images-amazon.com/images/I/41T7b2RxVlL._AC_UL600_SR600,400_.jpg\":[600,400],\"https://images-eu.ssl-images-amazon.com/images/I/41T7b2RxVlL._AC_UL900_SR900,600_.jpg\":[900,600]}' height=\"200px\" src=\"https://images-eu.ssl-images-amazon.com/images/I/41T7b2RxVlL._AC_UL300_SR300,200_.jpg\" style=\"max-width:300px;max-height:200px\"/></div></a>,\n",
       " <a class=\"a-link-normal\" href=\"/-/en/Hanging-Pendant-Mobile-Childrens-Nursery/dp/B0B8YPPH4P/ref=zg_bs_3968910031_sccl_5/258-3517021-7899457?psc=1\" role=\"link\"><span><div class=\"_cDEzb_p13n-sc-css-line-clamp-3_g3dy1\">Baby Wind Crib Chime with Felt Balls, 3D Cloud Doll, Hanging Bed Bell Pendant, Mobile Game for Children’s Nursery, Bed Decor (Grey)</div></span></a>,\n",
       " <a class=\"a-link-normal\" href=\"/-/en/product-reviews/B0B8YPPH4P/ref=zg_bs_3968910031_cr_sccl_5/258-3517021-7899457\" title=\"4.8 out of 5 stars\"><i class=\"a-icon a-icon-star-small a-star-small-5 aok-align-top\"><span class=\"a-icon-alt\">4.8 out of 5 stars</span></i> <span class=\"a-size-small\">122</span></a>,\n",
       " <a class=\"a-link-normal\" href=\"/-/en/Hanging-Pendant-Mobile-Childrens-Nursery/dp/B0B8YPPH4P/ref=zg_bs_3968910031_sccl_5/258-3517021-7899457?psc=1\" role=\"link\"><span class=\"a-color-secondary\">1 offer from <span class=\"a-size-base\"><span class=\"p13n-sc-price\">€8.96</span></span></span></a>,\n",
       " <a class=\"a-link-normal\" href=\"/-/en/80-077066-VTech-Walker-EasyMail-Package/dp/B07THL97XW/ref=zg_bs_3968910031_sccl_6/258-3517021-7899457?psc=1\" role=\"link\" tabindex=\"-1\"><div class=\"a-section a-spacing-mini _cDEzb_noop_3Xbw5\"><img alt=\"VTech Walker EasyMail Package\" class=\"a-dynamic-image p13n-sc-dynamic-image p13n-product-image\" data-a-dynamic-image='{\"https://images-eu.ssl-images-amazon.com/images/I/81l3BQ5Y-oL._AC_UL300_SR300,200_.jpg\":[300,200],\"https://images-eu.ssl-images-amazon.com/images/I/81l3BQ5Y-oL._AC_UL600_SR600,400_.jpg\":[600,400],\"https://images-eu.ssl-images-amazon.com/images/I/81l3BQ5Y-oL._AC_UL900_SR900,600_.jpg\":[900,600]}' height=\"200px\" src=\"https://images-eu.ssl-images-amazon.com/images/I/81l3BQ5Y-oL._AC_UL300_SR300,200_.jpg\" style=\"max-width:300px;max-height:200px\"/></div></a>,\n",
       " <a class=\"a-link-normal\" href=\"/-/en/80-077066-VTech-Walker-EasyMail-Package/dp/B07THL97XW/ref=zg_bs_3968910031_sccl_6/258-3517021-7899457?psc=1\" role=\"link\"><span><div class=\"_cDEzb_p13n-sc-css-line-clamp-3_g3dy1\">VTech Walker EasyMail Package</div></span></a>,\n",
       " <a class=\"a-link-normal\" href=\"/-/en/product-reviews/B07THL97XW/ref=zg_bs_3968910031_cr_sccl_6/258-3517021-7899457\" title=\"4.7 out of 5 stars\"><i class=\"a-icon a-icon-star-small a-star-small-4-5 aok-align-top\"><span class=\"a-icon-alt\">4.7 out of 5 stars</span></i> <span class=\"a-size-small\">1,620</span></a>,\n",
       " <a class=\"a-link-normal\" href=\"/-/en/80-077066-VTech-Walker-EasyMail-Package/dp/B07THL97XW/ref=zg_bs_3968910031_sccl_6/258-3517021-7899457?psc=1\" role=\"link\"><span class=\"a-color-secondary\">2 offers from <span class=\"a-size-base\"><span class=\"p13n-sc-price\">€32.05</span></span></span></a>,\n",
       " <a class=\"a-link-normal\" href=\"/-/en/Fisher-Price-GXC35-Rainforest-Deviations-Packaging/dp/B086VSYW56/ref=zg_bs_3968910031_sccl_7/258-3517021-7899457?psc=1\" role=\"link\" tabindex=\"-1\"><div class=\"a-section a-spacing-mini _cDEzb_noop_3Xbw5\"><img alt=\"Fisher-Price GXC35 Rainforest Play Mat with Music and Lights, Play Mat for Babies with Soft Play Arch, 0 Months, with Toucan,\" class=\"a-dynamic-image p13n-sc-dynamic-image p13n-product-image\" data-a-dynamic-image='{\"https://images-eu.ssl-images-amazon.com/images/I/71KrVAE5CJL._AC_UL300_SR300,200_.jpg\":[300,200],\"https://images-eu.ssl-images-amazon.com/images/I/71KrVAE5CJL._AC_UL600_SR600,400_.jpg\":[600,400],\"https://images-eu.ssl-images-amazon.com/images/I/71KrVAE5CJL._AC_UL900_SR900,600_.jpg\":[900,600]}' height=\"200px\" src=\"https://images-eu.ssl-images-amazon.com/images/I/71KrVAE5CJL._AC_UL300_SR300,200_.jpg\" style=\"max-width:300px;max-height:200px\"/></div></a>,\n",
       " <a class=\"a-link-normal\" href=\"/-/en/Fisher-Price-GXC35-Rainforest-Deviations-Packaging/dp/B086VSYW56/ref=zg_bs_3968910031_sccl_7/258-3517021-7899457?psc=1\" role=\"link\"><span><div class=\"_cDEzb_p13n-sc-css-line-clamp-3_g3dy1\">Fisher-Price GXC35 Rainforest Play Mat with Music and Lights, Play Mat for Babies with Soft Play Arch, 0 Months, with Toucan, Deviations in Packaging</div></span></a>,\n",
       " <a class=\"a-link-normal\" href=\"/-/en/product-reviews/B086VSYW56/ref=zg_bs_3968910031_cr_sccl_7/258-3517021-7899457\" title=\"4.7 out of 5 stars\"><i class=\"a-icon a-icon-star-small a-star-small-4-5 aok-align-top\"><span class=\"a-icon-alt\">4.7 out of 5 stars</span></i> <span class=\"a-size-small\">3,597</span></a>,\n",
       " <a class=\"a-link-normal\" href=\"/-/en/Fisher-Price-GXC35-Rainforest-Deviations-Packaging/dp/B086VSYW56/ref=zg_bs_3968910031_sccl_7/258-3517021-7899457?psc=1\" role=\"link\"><span class=\"a-color-secondary\">3 offers from <span class=\"a-size-base\"><span class=\"p13n-sc-price\">€79.90</span></span></span></a>,\n",
       " <a class=\"a-link-normal\" href=\"/-/en/ULLENBOOM-Crawling-Blanket-Padded-Eucalyptus/dp/B0BHZBJRFZ/ref=zg_bs_3968910031_sccl_8/258-3517021-7899457?psc=1\" role=\"link\" tabindex=\"-1\"><div class=\"a-section a-spacing-mini _cDEzb_noop_3Xbw5\"><img alt=\"ULLENBOOM ® Baby Crawling Blanket 120 x 120 cm Padded Eucalyptus (Made in EU) - Crawling Blanket for Baby with 100% Oeko Tex \" class=\"a-dynamic-image p13n-sc-dynamic-image p13n-product-image\" data-a-dynamic-image='{\"https://images-eu.ssl-images-amazon.com/images/I/71r5lQbzGWL._AC_UL300_SR300,200_.jpg\":[300,200],\"https://images-eu.ssl-images-amazon.com/images/I/71r5lQbzGWL._AC_UL600_SR600,400_.jpg\":[600,400],\"https://images-eu.ssl-images-amazon.com/images/I/71r5lQbzGWL._AC_UL900_SR900,600_.jpg\":[900,600]}' height=\"200px\" src=\"https://images-eu.ssl-images-amazon.com/images/I/71r5lQbzGWL._AC_UL300_SR300,200_.jpg\" style=\"max-width:300px;max-height:200px\"/></div></a>,\n",
       " <a class=\"a-link-normal\" href=\"/-/en/ULLENBOOM-Crawling-Blanket-Padded-Eucalyptus/dp/B0BHZBJRFZ/ref=zg_bs_3968910031_sccl_8/258-3517021-7899457?psc=1\" role=\"link\"><span><div class=\"_cDEzb_p13n-sc-css-line-clamp-3_g3dy1\">ULLENBOOM ® Baby Crawling Blanket 120 x 120 cm Padded Eucalyptus (Made in EU) - Crawling Blanket for Baby with 100% Oeko Tex Cotton, Ideal as a Baby Blanket and Play Blanket</div></span></a>,\n",
       " <a class=\"a-link-normal\" href=\"/-/en/product-reviews/B0BHZBJRFZ/ref=zg_bs_3968910031_cr_sccl_8/258-3517021-7899457\" title=\"4.7 out of 5 stars\"><i class=\"a-icon a-icon-star-small a-star-small-4-5 aok-align-top\"><span class=\"a-icon-alt\">4.7 out of 5 stars</span></i> <span class=\"a-size-small\">1,351</span></a>,\n",
       " <a class=\"a-link-normal a-text-normal\" href=\"/-/en/ULLENBOOM-Crawling-Blanket-Padded-Eucalyptus/dp/B0BHZBJRFZ/ref=zg_bs_3968910031_sccl_8/258-3517021-7899457?psc=1\" role=\"link\"><div class=\"a-row\"><span class=\"a-size-base a-color-price\"><span class=\"_cDEzb_p13n-sc-price_3mJ9Z\">€74.90</span></span></div></a>,\n",
       " <a class=\"a-link-normal\" href=\"/-/en/Sanosoft%C2%AE-Crawling-Mat-Original-Selection/dp/B09J1BCKRY/ref=zg_bs_3968910031_sccl_9/258-3517021-7899457?psc=1\" role=\"link\" tabindex=\"-1\"><div class=\"a-section a-spacing-mini _cDEzb_noop_3Xbw5\"><img alt=\"Sanosoft® Crawling Mat – The Original Made in Germany, Öko-Tex Non-Slip Crawling Mat: Largest Selection of Colours and Sizes \" class=\"a-dynamic-image p13n-sc-dynamic-image p13n-product-image\" data-a-dynamic-image='{\"https://images-eu.ssl-images-amazon.com/images/I/81VyE7vzAGL._AC_UL300_SR300,200_.jpg\":[300,200],\"https://images-eu.ssl-images-amazon.com/images/I/81VyE7vzAGL._AC_UL600_SR600,400_.jpg\":[600,400],\"https://images-eu.ssl-images-amazon.com/images/I/81VyE7vzAGL._AC_UL900_SR900,600_.jpg\":[900,600]}' height=\"200px\" src=\"https://images-eu.ssl-images-amazon.com/images/I/81VyE7vzAGL._AC_UL300_SR300,200_.jpg\" style=\"max-width:300px;max-height:200px\"/></div></a>,\n",
       " <a class=\"a-link-normal\" href=\"/-/en/Sanosoft%C2%AE-Crawling-Mat-Original-Selection/dp/B09J1BCKRY/ref=zg_bs_3968910031_sccl_9/258-3517021-7899457?psc=1\" role=\"link\"><span><div class=\"_cDEzb_p13n-sc-css-line-clamp-3_g3dy1\">Sanosoft® Crawling Mat – The Original Made in Germany, Öko-Tex Non-Slip Crawling Mat: Largest Selection of Colours and Sizes – 120 cm x 170 cm Light Grey</div></span></a>,\n",
       " <a class=\"a-link-normal\" href=\"/-/en/product-reviews/B09J1BCKRY/ref=zg_bs_3968910031_cr_sccl_9/258-3517021-7899457\" title=\"4.5 out of 5 stars\"><i class=\"a-icon a-icon-star-small a-star-small-4-5 aok-align-top\"><span class=\"a-icon-alt\">4.5 out of 5 stars</span></i> <span class=\"a-size-small\">1,970</span></a>,\n",
       " <a class=\"a-link-normal a-text-normal\" href=\"/-/en/Sanosoft%C2%AE-Crawling-Mat-Original-Selection/dp/B09J1BCKRY/ref=zg_bs_3968910031_sccl_9/258-3517021-7899457?psc=1\" role=\"link\"><div class=\"a-row\"><span class=\"a-size-base a-color-price\"><span class=\"_cDEzb_p13n-sc-price_3mJ9Z\">€69.00</span></span></div></a>,\n",
       " <a class=\"a-link-normal\" href=\"/-/en/Foldable-Crawling-Non-Slip-Material-Portable/dp/B086VZP5PF/ref=zg_bs_3968910031_sccl_10/258-3517021-7899457?psc=1\" role=\"link\" tabindex=\"-1\"><div class=\"a-section a-spacing-mini _cDEzb_noop_3Xbw5\"><img alt=\"HB.YE Play Mat Baby Rug Baby Mat Foldable Play Blanket Crawling Mat Kids Foam Mat Floor Mat XPE Non-Slip Material Portable fo\" class=\"a-dynamic-image p13n-sc-dynamic-image p13n-product-image\" data-a-dynamic-image='{\"https://images-eu.ssl-images-amazon.com/images/I/810UZ-rWwXL._AC_UL300_SR300,200_.jpg\":[300,200],\"https://images-eu.ssl-images-amazon.com/images/I/810UZ-rWwXL._AC_UL600_SR600,400_.jpg\":[600,400],\"https://images-eu.ssl-images-amazon.com/images/I/810UZ-rWwXL._AC_UL900_SR900,600_.jpg\":[900,600]}' height=\"200px\" src=\"https://images-eu.ssl-images-amazon.com/images/I/810UZ-rWwXL._AC_UL300_SR300,200_.jpg\" style=\"max-width:300px;max-height:200px\"/></div></a>,\n",
       " <a class=\"a-link-normal\" href=\"/-/en/Foldable-Crawling-Non-Slip-Material-Portable/dp/B086VZP5PF/ref=zg_bs_3968910031_sccl_10/258-3517021-7899457?psc=1\" role=\"link\"><span><div class=\"_cDEzb_p13n-sc-css-line-clamp-3_g3dy1\">HB.YE Play Mat Baby Rug Baby Mat Foldable Play Blanket Crawling Mat Kids Foam Mat Floor Mat XPE Non-Slip Material Portable for Indoor or Outdoor Use (Animal Forest)</div></span></a>,\n",
       " <a class=\"a-link-normal\" href=\"/-/en/product-reviews/B086VZP5PF/ref=zg_bs_3968910031_cr_sccl_10/258-3517021-7899457\" title=\"4.4 out of 5 stars\"><i class=\"a-icon a-icon-star-small a-star-small-4-5 aok-align-top\"><span class=\"a-icon-alt\">4.4 out of 5 stars</span></i> <span class=\"a-size-small\">713</span></a>,\n",
       " <a class=\"a-link-normal\" href=\"/-/en/Foldable-Crawling-Non-Slip-Material-Portable/dp/B086VZP5PF/ref=zg_bs_3968910031_sccl_10/258-3517021-7899457?psc=1\" role=\"link\"><span class=\"a-color-secondary\">3 offers from <span class=\"a-size-base\"><span class=\"p13n-sc-price\">€43.69</span></span></span></a>,\n",
       " <a class=\"a-link-normal\" href=\"/-/en/Water-Filled-Inflatable-Months-Underwater/dp/B085QK9LC4/ref=zg_bs_3968910031_sccl_11/258-3517021-7899457?psc=1\" role=\"link\" tabindex=\"-1\"><div class=\"a-section a-spacing-mini _cDEzb_noop_3Xbw5\"><img alt=\"Water Mat Baby Water Filled Play Mat Water Play Mat Toy Inflatable Baby Tummy Time Mat 66 x 50 cm for Baby from 3 6 9 Months \" class=\"a-dynamic-image p13n-sc-dynamic-image p13n-product-image\" data-a-dynamic-image='{\"https://images-eu.ssl-images-amazon.com/images/I/71UTjonJh9L._AC_UL300_SR300,200_.jpg\":[300,200],\"https://images-eu.ssl-images-amazon.com/images/I/71UTjonJh9L._AC_UL600_SR600,400_.jpg\":[600,400],\"https://images-eu.ssl-images-amazon.com/images/I/71UTjonJh9L._AC_UL900_SR900,600_.jpg\":[900,600]}' height=\"200px\" src=\"https://images-eu.ssl-images-amazon.com/images/I/71UTjonJh9L._AC_UL300_SR300,200_.jpg\" style=\"max-width:300px;max-height:200px\"/></div></a>,\n",
       " <a class=\"a-link-normal\" href=\"/-/en/Water-Filled-Inflatable-Months-Underwater/dp/B085QK9LC4/ref=zg_bs_3968910031_sccl_11/258-3517021-7899457?psc=1\" role=\"link\"><span><div class=\"_cDEzb_p13n-sc-css-line-clamp-3_g3dy1\">Water Mat Baby Water Filled Play Mat Water Play Mat Toy Inflatable Baby Tummy Time Mat 66 x 50 cm for Baby from 3 6 9 Months (Underwater World)</div></span></a>,\n",
       " <a class=\"a-link-normal\" href=\"/-/en/product-reviews/B085QK9LC4/ref=zg_bs_3968910031_cr_sccl_11/258-3517021-7899457\" title=\"4.2 out of 5 stars\"><i class=\"a-icon a-icon-star-small a-star-small-4 aok-align-top\"><span class=\"a-icon-alt\">4.2 out of 5 stars</span></i> <span class=\"a-size-small\">614</span></a>,\n",
       " <a class=\"a-link-normal\" href=\"/-/en/Water-Filled-Inflatable-Months-Underwater/dp/B085QK9LC4/ref=zg_bs_3968910031_sccl_11/258-3517021-7899457?psc=1\" role=\"link\"><span class=\"a-color-secondary\">1 offer from <span class=\"a-size-base\"><span class=\"p13n-sc-price\">€14.99</span></span></span></a>,\n",
       " <a class=\"a-link-normal\" href=\"/-/en/Promise-Wooden-Mobile-Nursery-Hanging/dp/B08VWDRCMZ/ref=zg_bs_3968910031_sccl_12/258-3517021-7899457?psc=1\" role=\"link\" tabindex=\"-1\"><div class=\"a-section a-spacing-mini _cDEzb_noop_3Xbw5\"><img alt=\"Promise Babe Wooden Baby Mobile with Felt Balls, Nursery Hanging Bed Bell, Rabbit Mobile, Wind Chime for Baby Bed, Cot\" class=\"a-dynamic-image p13n-sc-dynamic-image p13n-product-image\" data-a-dynamic-image='{\"https://images-eu.ssl-images-amazon.com/images/I/51aT1YXEClL._AC_UL300_SR300,200_.jpg\":[300,200],\"https://images-eu.ssl-images-amazon.com/images/I/51aT1YXEClL._AC_UL600_SR600,400_.jpg\":[600,400],\"https://images-eu.ssl-images-amazon.com/images/I/51aT1YXEClL._AC_UL900_SR900,600_.jpg\":[900,600]}' height=\"200px\" src=\"https://images-eu.ssl-images-amazon.com/images/I/51aT1YXEClL._AC_UL300_SR300,200_.jpg\" style=\"max-width:300px;max-height:200px\"/></div></a>,\n",
       " <a class=\"a-link-normal\" href=\"/-/en/Promise-Wooden-Mobile-Nursery-Hanging/dp/B08VWDRCMZ/ref=zg_bs_3968910031_sccl_12/258-3517021-7899457?psc=1\" role=\"link\"><span><div class=\"_cDEzb_p13n-sc-css-line-clamp-3_g3dy1\">Promise Babe Wooden Baby Mobile with Felt Balls, Nursery Hanging Bed Bell, Rabbit Mobile, Wind Chime for Baby Bed, Cot</div></span></a>,\n",
       " <a class=\"a-link-normal\" href=\"/-/en/product-reviews/B08VWDRCMZ/ref=zg_bs_3968910031_cr_sccl_12/258-3517021-7899457\" title=\"4.3 out of 5 stars\"><i class=\"a-icon a-icon-star-small a-star-small-4-5 aok-align-top\"><span class=\"a-icon-alt\">4.3 out of 5 stars</span></i> <span class=\"a-size-small\">690</span></a>,\n",
       " <a class=\"a-link-normal\" href=\"/-/en/Promise-Wooden-Mobile-Nursery-Hanging/dp/B08VWDRCMZ/ref=zg_bs_3968910031_sccl_12/258-3517021-7899457?psc=1\" role=\"link\"><span class=\"a-color-secondary\">1 offer from <span class=\"a-size-base\"><span class=\"p13n-sc-price\">€21.98</span></span></span></a>,\n",
       " <a class=\"a-link-normal\" href=\"/-/en/Children-BPA-Free-Inflatable-Activities-Stimulation/dp/B0B1TR7XC3/ref=zg_bs_3968910031_sccl_13/258-3517021-7899457?psc=1\" role=\"link\" tabindex=\"-1\"><div class=\"a-section a-spacing-mini _cDEzb_noop_3Xbw5\"><img alt=\"Dusor Water Mat Baby Toy 3 6 9 Months, Easter Gifts Children, Water Play Mat BPA-Free, Inflatable Tummy Time Mat, Fun Activit\" class=\"a-dynamic-image p13n-sc-dynamic-image p13n-product-image\" data-a-dynamic-image='{\"https://images-eu.ssl-images-amazon.com/images/I/81DOBlY5ehL._AC_UL300_SR300,200_.jpg\":[300,200],\"https://images-eu.ssl-images-amazon.com/images/I/81DOBlY5ehL._AC_UL600_SR600,400_.jpg\":[600,400],\"https://images-eu.ssl-images-amazon.com/images/I/81DOBlY5ehL._AC_UL900_SR900,600_.jpg\":[900,600]}' height=\"200px\" src=\"https://images-eu.ssl-images-amazon.com/images/I/81DOBlY5ehL._AC_UL300_SR300,200_.jpg\" style=\"max-width:300px;max-height:200px\"/></div></a>,\n",
       " <a class=\"a-link-normal\" href=\"/-/en/Children-BPA-Free-Inflatable-Activities-Stimulation/dp/B0B1TR7XC3/ref=zg_bs_3968910031_sccl_13/258-3517021-7899457?psc=1\" role=\"link\"><span><div class=\"_cDEzb_p13n-sc-css-line-clamp-3_g3dy1\">Dusor Water Mat Baby Toy 3 6 9 Months, Easter Gifts Children, Water Play Mat BPA-Free, Inflatable Tummy Time Mat, Fun Activities Stimulation Growth of Your Baby</div></span></a>,\n",
       " <a class=\"a-link-normal\" href=\"/-/en/product-reviews/B0B1TR7XC3/ref=zg_bs_3968910031_cr_sccl_13/258-3517021-7899457\" title=\"4.4 out of 5 stars\"><i class=\"a-icon a-icon-star-small a-star-small-4-5 aok-align-top\"><span class=\"a-icon-alt\">4.4 out of 5 stars</span></i> <span class=\"a-size-small\">599</span></a>,\n",
       " <a class=\"a-link-normal\" href=\"/-/en/Children-BPA-Free-Inflatable-Activities-Stimulation/dp/B0B1TR7XC3/ref=zg_bs_3968910031_sccl_13/258-3517021-7899457?psc=1\" role=\"link\"><span class=\"a-color-secondary\">1 offer from <span class=\"a-size-base\"><span class=\"p13n-sc-price\">€14.99</span></span></span></a>,\n",
       " <a class=\"a-link-normal\" href=\"/-/en/Dwustronna-Mata-Piankowa-XPE-180/dp/B0BNL6LMMV/ref=zg_bs_3968910031_sccl_14/258-3517021-7899457?psc=1\" role=\"link\" tabindex=\"-1\"><div class=\"a-section a-spacing-mini _cDEzb_noop_3Xbw5\"><img alt=\"Dwustronna Mata Piankowa XPE 180 x 200 cm\" class=\"a-dynamic-image p13n-sc-dynamic-image p13n-product-image\" data-a-dynamic-image='{\"https://images-eu.ssl-images-amazon.com/images/I/81L2gW5b+WL._AC_UL300_SR300,200_.jpg\":[300,200],\"https://images-eu.ssl-images-amazon.com/images/I/81L2gW5b+WL._AC_UL600_SR600,400_.jpg\":[600,400],\"https://images-eu.ssl-images-amazon.com/images/I/81L2gW5b+WL._AC_UL900_SR900,600_.jpg\":[900,600]}' height=\"200px\" src=\"https://images-eu.ssl-images-amazon.com/images/I/81L2gW5b+WL._AC_UL300_SR300,200_.jpg\" style=\"max-width:300px;max-height:200px\"/></div></a>,\n",
       " <a class=\"a-link-normal\" href=\"/-/en/Dwustronna-Mata-Piankowa-XPE-180/dp/B0BNL6LMMV/ref=zg_bs_3968910031_sccl_14/258-3517021-7899457?psc=1\" role=\"link\"><span><div class=\"_cDEzb_p13n-sc-css-line-clamp-3_g3dy1\">Dwustronna Mata Piankowa XPE 180 x 200 cm</div></span></a>,\n",
       " <a class=\"a-link-normal\" href=\"/-/en/product-reviews/B0BNL6LMMV/ref=zg_bs_3968910031_cr_sccl_14/258-3517021-7899457\" title=\"4.3 out of 5 stars\"><i class=\"a-icon a-icon-star-small a-star-small-4-5 aok-align-top\"><span class=\"a-icon-alt\">4.3 out of 5 stars</span></i> <span class=\"a-size-small\">35</span></a>,\n",
       " <a class=\"a-link-normal\" href=\"/-/en/Dwustronna-Mata-Piankowa-XPE-180/dp/B0BNL6LMMV/ref=zg_bs_3968910031_sccl_14/258-3517021-7899457?psc=1\" role=\"link\"><span class=\"a-color-secondary\">1 offer from <span class=\"a-size-base\"><span class=\"p13n-sc-price\">€34.99</span></span></span></a>,\n",
       " <a class=\"a-link-normal\" href=\"/-/en/074291-Colourful-Animals-Lullaby-Bedside/dp/B00I489PLU/ref=zg_bs_3968910031_sccl_15/258-3517021-7899457?psc=1\" role=\"link\" tabindex=\"-1\"><div class=\"a-section a-spacing-mini _cDEzb_noop_3Xbw5\"><img alt=\"Fehn 074291 Safari Music Mobile, Music Box Mobile with Colourful Safari Animals to Listen &amp; Marvel, Brahms Lullaby Melody, Fo\" class=\"a-dynamic-image p13n-sc-dynamic-image p13n-product-image\" data-a-dynamic-image='{\"https://images-eu.ssl-images-amazon.com/images/I/51HPWO3BFcL._AC_UL300_SR300,200_.jpg\":[300,200],\"https://images-eu.ssl-images-amazon.com/images/I/51HPWO3BFcL._AC_UL600_SR600,400_.jpg\":[600,400],\"https://images-eu.ssl-images-amazon.com/images/I/51HPWO3BFcL._AC_UL900_SR900,600_.jpg\":[900,600]}' height=\"200px\" src=\"https://images-eu.ssl-images-amazon.com/images/I/51HPWO3BFcL._AC_UL300_SR300,200_.jpg\" style=\"max-width:300px;max-height:200px\"/></div></a>,\n",
       " <a class=\"a-link-normal\" href=\"/-/en/074291-Colourful-Animals-Lullaby-Bedside/dp/B00I489PLU/ref=zg_bs_3968910031_sccl_15/258-3517021-7899457?psc=1\" role=\"link\"><span><div class=\"_cDEzb_p13n-sc-css-line-clamp-3_g3dy1\">Fehn 074291 Safari Music Mobile, Music Box Mobile with Colourful Safari Animals to Listen &amp; Marvel, Brahms Lullaby Melody, For Bedside for 0-5 Months Babies, Height: 65 cm, Diameter 40 cm</div></span></a>,\n",
       " <a class=\"a-link-normal\" href=\"/-/en/product-reviews/B00I489PLU/ref=zg_bs_3968910031_cr_sccl_15/258-3517021-7899457\" title=\"4.6 out of 5 stars\"><i class=\"a-icon a-icon-star-small a-star-small-4-5 aok-align-top\"><span class=\"a-icon-alt\">4.6 out of 5 stars</span></i> <span class=\"a-size-small\">1,888</span></a>,\n",
       " <a class=\"a-link-normal a-text-normal\" href=\"/-/en/074291-Colourful-Animals-Lullaby-Bedside/dp/B00I489PLU/ref=zg_bs_3968910031_sccl_15/258-3517021-7899457?psc=1\" role=\"link\"><div class=\"a-row\"><span class=\"a-size-base a-color-price\"><span class=\"_cDEzb_p13n-sc-price_3mJ9Z\">€28.99</span></span></div></a>,\n",
       " <a class=\"a-link-normal\" href=\"/-/en/Baby-Play-Mat-XXL-Double-Sided/dp/B08K3GH45X/ref=zg_bs_3968910031_sccl_16/258-3517021-7899457?psc=1\" role=\"link\" tabindex=\"-1\"><div class=\"a-section a-spacing-mini _cDEzb_noop_3Xbw5\"><img alt=\"Baby Play Mat XXL - Double-Sided Floor Mat with Double Pattern - Reversible Baby Play Mats - Play Mats for Baby Side and Gymn\" class=\"a-dynamic-image p13n-sc-dynamic-image p13n-product-image\" data-a-dynamic-image='{\"https://images-eu.ssl-images-amazon.com/images/I/81TTRq-QD4L._AC_UL300_SR300,200_.jpg\":[300,200],\"https://images-eu.ssl-images-amazon.com/images/I/81TTRq-QD4L._AC_UL600_SR600,400_.jpg\":[600,400],\"https://images-eu.ssl-images-amazon.com/images/I/81TTRq-QD4L._AC_UL900_SR900,600_.jpg\":[900,600]}' height=\"200px\" src=\"https://images-eu.ssl-images-amazon.com/images/I/81TTRq-QD4L._AC_UL300_SR300,200_.jpg\" style=\"max-width:300px;max-height:200px\"/></div></a>,\n",
       " <a class=\"a-link-normal\" href=\"/-/en/Baby-Play-Mat-XXL-Double-Sided/dp/B08K3GH45X/ref=zg_bs_3968910031_sccl_16/258-3517021-7899457?psc=1\" role=\"link\"><span><div class=\"_cDEzb_p13n-sc-css-line-clamp-3_g3dy1\">Baby Play Mat XXL - Double-Sided Floor Mat with Double Pattern - Reversible Baby Play Mats - Play Mats for Baby Side and Gymnastics Floor Mat Side</div></span></a>,\n",
       " <a class=\"a-link-normal\" href=\"/-/en/product-reviews/B08K3GH45X/ref=zg_bs_3968910031_cr_sccl_16/258-3517021-7899457\" title=\"4.4 out of 5 stars\"><i class=\"a-icon a-icon-star-small a-star-small-4-5 aok-align-top\"><span class=\"a-icon-alt\">4.4 out of 5 stars</span></i> <span class=\"a-size-small\">827</span></a>,\n",
       " <a class=\"a-link-normal\" href=\"/-/en/Baby-Play-Mat-XXL-Double-Sided/dp/B08K3GH45X/ref=zg_bs_3968910031_sccl_16/258-3517021-7899457?psc=1\" role=\"link\"><span class=\"a-color-secondary\">2 offers from <span class=\"a-size-base\"><span class=\"p13n-sc-price\">€58.43</span></span></span></a>,\n",
       " <a class=\"a-link-normal\" href=\"/-/en/NouBaby%C2%AE-BPA-Free-Unique-Including-Patches/dp/B09T7BY8QS/ref=zg_bs_3968910031_sccl_17/258-3517021-7899457?psc=1\" role=\"link\" tabindex=\"-1\"><div class=\"a-section a-spacing-mini _cDEzb_noop_3Xbw5\"><img alt=\"NouBaby® Water Mat Baby BPA-Free XXL I Unique Baby Toy from 3, 6 and 9 Months as Water Play Mat or Baby Water Mat Including P\" class=\"a-dynamic-image p13n-sc-dynamic-image p13n-product-image\" data-a-dynamic-image='{\"https://images-eu.ssl-images-amazon.com/images/I/91eBRg9yvZL._AC_UL300_SR300,200_.jpg\":[300,200],\"https://images-eu.ssl-images-amazon.com/images/I/91eBRg9yvZL._AC_UL600_SR600,400_.jpg\":[600,400],\"https://images-eu.ssl-images-amazon.com/images/I/91eBRg9yvZL._AC_UL900_SR900,600_.jpg\":[900,600]}' height=\"200px\" src=\"https://images-eu.ssl-images-amazon.com/images/I/91eBRg9yvZL._AC_UL300_SR300,200_.jpg\" style=\"max-width:300px;max-height:200px\"/></div></a>,\n",
       " <a class=\"a-link-normal\" href=\"/-/en/NouBaby%C2%AE-BPA-Free-Unique-Including-Patches/dp/B09T7BY8QS/ref=zg_bs_3968910031_sccl_17/258-3517021-7899457?psc=1\" role=\"link\"><span><div class=\"_cDEzb_p13n-sc-css-line-clamp-3_g3dy1\">NouBaby® Water Mat Baby BPA-Free XXL I Unique Baby Toy from 3, 6 and 9 Months as Water Play Mat or Baby Water Mat Including Patches</div></span></a>,\n",
       " <a class=\"a-link-normal\" href=\"/-/en/product-reviews/B09T7BY8QS/ref=zg_bs_3968910031_cr_sccl_17/258-3517021-7899457\" title=\"4.4 out of 5 stars\"><i class=\"a-icon a-icon-star-small a-star-small-4-5 aok-align-top\"><span class=\"a-icon-alt\">4.4 out of 5 stars</span></i> <span class=\"a-size-small\">173</span></a>,\n",
       " <a class=\"a-link-normal\" href=\"/-/en/NouBaby%C2%AE-BPA-Free-Unique-Including-Patches/dp/B09T7BY8QS/ref=zg_bs_3968910031_sccl_17/258-3517021-7899457?psc=1\" role=\"link\"><span class=\"a-color-secondary\">1 offer from <span class=\"a-size-base\"><span class=\"p13n-sc-price\">€26.99</span></span></span></a>,\n",
       " <a class=\"a-link-normal\" href=\"/-/en/Fehn-071214-Music-Inhabitants-Sternlein/dp/B00TYL9OGW/ref=zg_bs_3968910031_sccl_18/258-3517021-7899457?psc=1\" role=\"link\" tabindex=\"-1\"><div class=\"a-section a-spacing-mini _cDEzb_noop_3Xbw5\"><img alt='Fehn 071214 Music – Mobile Forest – Music Box – Mobile with Inhabitants of the Forest – Melody \"Weiß du wie viel Sternlein st' class=\"a-dynamic-image p13n-sc-dynamic-image p13n-product-image\" data-a-dynamic-image='{\"https://images-eu.ssl-images-amazon.com/images/I/61qeAYD07uL._AC_UL300_SR300,200_.jpg\":[300,200],\"https://images-eu.ssl-images-amazon.com/images/I/61qeAYD07uL._AC_UL600_SR600,400_.jpg\":[600,400],\"https://images-eu.ssl-images-amazon.com/images/I/61qeAYD07uL._AC_UL900_SR900,600_.jpg\":[900,600]}' height=\"200px\" src=\"https://images-eu.ssl-images-amazon.com/images/I/61qeAYD07uL._AC_UL300_SR300,200_.jpg\" style=\"max-width:300px;max-height:200px\"/></div></a>,\n",
       " <a class=\"a-link-normal\" href=\"/-/en/Fehn-071214-Music-Inhabitants-Sternlein/dp/B00TYL9OGW/ref=zg_bs_3968910031_sccl_18/258-3517021-7899457?psc=1\" role=\"link\"><span><div class=\"_cDEzb_p13n-sc-css-line-clamp-3_g3dy1\">Fehn 071214 Music – Mobile Forest – Music Box – Mobile with Inhabitants of the Forest – Melody \"Weiß du wie viel Sternlein stehen\" – For attaching to the bed for babies from 0–5 months – Height: 65 cm, Diameter 40 cm</div></span></a>,\n",
       " <a class=\"a-link-normal\" href=\"/-/en/product-reviews/B00TYL9OGW/ref=zg_bs_3968910031_cr_sccl_18/258-3517021-7899457\" title=\"4.6 out of 5 stars\"><i class=\"a-icon a-icon-star-small a-star-small-4-5 aok-align-top\"><span class=\"a-icon-alt\">4.6 out of 5 stars</span></i> <span class=\"a-size-small\">7,014</span></a>,\n",
       " <a class=\"a-link-normal\" href=\"/-/en/Fehn-071214-Music-Inhabitants-Sternlein/dp/B00TYL9OGW/ref=zg_bs_3968910031_sccl_18/258-3517021-7899457?psc=1\" role=\"link\"><span class=\"a-color-secondary\">12 offers from <span class=\"a-size-base\"><span class=\"p13n-sc-price\">€23.74</span></span></span></a>,\n",
       " <a class=\"a-link-normal\" href=\"/-/en/Infinno-Water-Baby-Months-Ocean/dp/B0BRW9K1CP/ref=zg_bs_3968910031_sccl_19/258-3517021-7899457?psc=1\" role=\"link\" tabindex=\"-1\"><div class=\"a-section a-spacing-mini _cDEzb_noop_3Xbw5\"><img alt=\"Infinno Water Mat Baby Water Play Mat Toy Play Mat Baby for 3 6 9 Months Blue Ocean\" class=\"a-dynamic-image p13n-sc-dynamic-image p13n-product-image\" data-a-dynamic-image='{\"https://images-eu.ssl-images-amazon.com/images/I/81sOCERjf4L._AC_UL300_SR300,200_.jpg\":[300,200],\"https://images-eu.ssl-images-amazon.com/images/I/81sOCERjf4L._AC_UL600_SR600,400_.jpg\":[600,400],\"https://images-eu.ssl-images-amazon.com/images/I/81sOCERjf4L._AC_UL900_SR900,600_.jpg\":[900,600]}' height=\"200px\" src=\"https://images-eu.ssl-images-amazon.com/images/I/81sOCERjf4L._AC_UL300_SR300,200_.jpg\" style=\"max-width:300px;max-height:200px\"/></div></a>,\n",
       " <a class=\"a-link-normal\" href=\"/-/en/Infinno-Water-Baby-Months-Ocean/dp/B0BRW9K1CP/ref=zg_bs_3968910031_sccl_19/258-3517021-7899457?psc=1\" role=\"link\"><span><div class=\"_cDEzb_p13n-sc-css-line-clamp-3_g3dy1\">Infinno Water Mat Baby Water Play Mat Toy Play Mat Baby for 3 6 9 Months Blue Ocean</div></span></a>,\n",
       " <a class=\"a-link-normal\" href=\"/-/en/product-reviews/B0BRW9K1CP/ref=zg_bs_3968910031_cr_sccl_19/258-3517021-7899457\" title=\"4.5 out of 5 stars\"><i class=\"a-icon a-icon-star-small a-star-small-4-5 aok-align-top\"><span class=\"a-icon-alt\">4.5 out of 5 stars</span></i> <span class=\"a-size-small\">286</span></a>,\n",
       " <a class=\"a-link-normal\" href=\"/-/en/Infinno-Water-Baby-Months-Ocean/dp/B0BRW9K1CP/ref=zg_bs_3968910031_sccl_19/258-3517021-7899457?psc=1\" role=\"link\"><span class=\"a-color-secondary\">1 offer from <span class=\"a-size-base\"><span class=\"p13n-sc-price\">€15.99</span></span></span></a>,\n",
       " <a class=\"a-link-normal\" href=\"/-/en/CHILDLIKE-BEHAVIOR-Baby-Play-Mat/dp/B089WC4SQY/ref=zg_bs_3968910031_sccl_20/258-3517021-7899457?psc=1\" role=\"link\" tabindex=\"-1\"><div class=\"a-section a-spacing-mini _cDEzb_noop_3Xbw5\"><img alt=\"CHILDLIKE BEHAVIOR Baby Play Mat - Crawling Mat - Baby Play Mat - Puzzle Mat Baby - Extra Large Play Mat 182 x 122 cm | Baby \" class=\"a-dynamic-image p13n-sc-dynamic-image p13n-product-image\" data-a-dynamic-image='{\"https://images-eu.ssl-images-amazon.com/images/I/71Ph66ElQvL._AC_UL300_SR300,200_.jpg\":[300,200],\"https://images-eu.ssl-images-amazon.com/images/I/71Ph66ElQvL._AC_UL600_SR600,400_.jpg\":[600,400],\"https://images-eu.ssl-images-amazon.com/images/I/71Ph66ElQvL._AC_UL900_SR900,600_.jpg\":[900,600]}' height=\"200px\" src=\"https://images-eu.ssl-images-amazon.com/images/I/71Ph66ElQvL._AC_UL300_SR300,200_.jpg\" style=\"max-width:300px;max-height:200px\"/></div></a>,\n",
       " <a class=\"a-link-normal\" href=\"/-/en/CHILDLIKE-BEHAVIOR-Baby-Play-Mat/dp/B089WC4SQY/ref=zg_bs_3968910031_sccl_20/258-3517021-7899457?psc=1\" role=\"link\"><span><div class=\"_cDEzb_p13n-sc-css-line-clamp-3_g3dy1\">CHILDLIKE BEHAVIOR Baby Play Mat - Crawling Mat - Baby Play Mat - Puzzle Mat Baby - Extra Large Play Mat 182 x 122 cm | Baby Mat | Baby, Toddlers and Children | 6 Pieces (61 x 61 x 1 cm) Orange</div></span></a>,\n",
       " <a class=\"a-link-normal\" href=\"/-/en/product-reviews/B089WC4SQY/ref=zg_bs_3968910031_cr_sccl_20/258-3517021-7899457\" title=\"4.4 out of 5 stars\"><i class=\"a-icon a-icon-star-small a-star-small-4-5 aok-align-top\"><span class=\"a-icon-alt\">4.4 out of 5 stars</span></i> <span class=\"a-size-small\">195</span></a>,\n",
       " <a class=\"a-link-normal\" href=\"/-/en/CHILDLIKE-BEHAVIOR-Baby-Play-Mat/dp/B089WC4SQY/ref=zg_bs_3968910031_sccl_20/258-3517021-7899457?psc=1\" role=\"link\"><span class=\"a-color-secondary\">1 offer from <span class=\"a-size-base\"><span class=\"p13n-sc-price\">€54.99</span></span></span></a>,\n",
       " <a class=\"a-link-normal\" href=\"/-/en/Fehn-Baby-Play-Beetle-Motif/dp/B0714FG87B/ref=zg_bs_3968910031_sccl_21/258-3517021-7899457?psc=1\" role=\"link\" tabindex=\"-1\"><div class=\"a-section a-spacing-mini _cDEzb_noop_3Xbw5\"><img alt=\"Fehn 3D Baby Play Gym with Beetle Motif\" class=\"a-dynamic-image p13n-sc-dynamic-image p13n-product-image\" data-a-dynamic-image='{\"https://images-eu.ssl-images-amazon.com/images/I/71ZcLIxsI+L._AC_UL300_SR300,200_.jpg\":[300,200],\"https://images-eu.ssl-images-amazon.com/images/I/71ZcLIxsI+L._AC_UL600_SR600,400_.jpg\":[600,400],\"https://images-eu.ssl-images-amazon.com/images/I/71ZcLIxsI+L._AC_UL900_SR900,600_.jpg\":[900,600]}' height=\"200px\" src=\"https://images-eu.ssl-images-amazon.com/images/I/71ZcLIxsI+L._AC_UL300_SR300,200_.jpg\" style=\"max-width:300px;max-height:200px\"/></div></a>,\n",
       " <a class=\"a-link-normal\" href=\"/-/en/Fehn-Baby-Play-Beetle-Motif/dp/B0714FG87B/ref=zg_bs_3968910031_sccl_21/258-3517021-7899457?psc=1\" role=\"link\"><span><div class=\"_cDEzb_p13n-sc-css-line-clamp-3_g3dy1\">Fehn 3D Baby Play Gym with Beetle Motif</div></span></a>,\n",
       " <a class=\"a-link-normal\" href=\"/-/en/product-reviews/B0714FG87B/ref=zg_bs_3968910031_cr_sccl_21/258-3517021-7899457\" title=\"4.8 out of 5 stars\"><i class=\"a-icon a-icon-star-small a-star-small-5 aok-align-top\"><span class=\"a-icon-alt\">4.8 out of 5 stars</span></i> <span class=\"a-size-small\">4,629</span></a>,\n",
       " <a class=\"a-link-normal a-text-normal\" href=\"/-/en/Fehn-Baby-Play-Beetle-Motif/dp/B0714FG87B/ref=zg_bs_3968910031_sccl_21/258-3517021-7899457?psc=1\" role=\"link\"><div class=\"a-row\"><span class=\"a-size-base a-color-price\"><span class=\"_cDEzb_p13n-sc-price_3mJ9Z\">€59.90</span></span></div></a>,\n",
       " <a class=\"a-link-normal\" href=\"/-/en/Einstein-Kickin-Different-Sounds-Minutes/dp/B07MPCCDM7/ref=zg_bs_3968910031_sccl_22/258-3517021-7899457?psc=1\" role=\"link\" tabindex=\"-1\"><div class=\"a-section a-spacing-mini _cDEzb_noop_3Xbw5\"><img alt=\"Baby Einstein, 4 in 1 Kickin' Tunes Play Mat, More Than 70 Different Sounds and 25 Minutes of Music, an Extra Piano, Lots of \" class=\"a-dynamic-image p13n-sc-dynamic-image p13n-product-image\" data-a-dynamic-image='{\"https://images-eu.ssl-images-amazon.com/images/I/81uQmTEJRAL._AC_UL300_SR300,200_.jpg\":[300,200],\"https://images-eu.ssl-images-amazon.com/images/I/81uQmTEJRAL._AC_UL600_SR600,400_.jpg\":[600,400],\"https://images-eu.ssl-images-amazon.com/images/I/81uQmTEJRAL._AC_UL900_SR900,600_.jpg\":[900,600]}' height=\"200px\" src=\"https://images-eu.ssl-images-amazon.com/images/I/81uQmTEJRAL._AC_UL300_SR300,200_.jpg\" style=\"max-width:300px;max-height:200px\"/></div></a>,\n",
       " <a class=\"a-link-normal\" href=\"/-/en/Einstein-Kickin-Different-Sounds-Minutes/dp/B07MPCCDM7/ref=zg_bs_3968910031_sccl_22/258-3517021-7899457?psc=1\" role=\"link\"><span><div class=\"_cDEzb_p13n-sc-css-line-clamp-3_g3dy1\">Baby Einstein, 4 in 1 Kickin' Tunes Play Mat, More Than 70 Different Sounds and 25 Minutes of Music, an Extra Piano, Lots of Toys and More.</div></span></a>,\n",
       " <a class=\"a-link-normal\" href=\"/-/en/product-reviews/B07MPCCDM7/ref=zg_bs_3968910031_cr_sccl_22/258-3517021-7899457\" title=\"4.4 out of 5 stars\"><i class=\"a-icon a-icon-star-small a-star-small-4-5 aok-align-top\"><span class=\"a-icon-alt\">4.4 out of 5 stars</span></i> <span class=\"a-size-small\">16,687</span></a>,\n",
       " <a class=\"a-link-normal\" href=\"/-/en/Einstein-Kickin-Different-Sounds-Minutes/dp/B07MPCCDM7/ref=zg_bs_3968910031_sccl_22/258-3517021-7899457?psc=1\" role=\"link\"><span class=\"a-color-secondary\">2 offers from <span class=\"a-size-base\"><span class=\"p13n-sc-price\">€65.99</span></span></span></a>,\n",
       " <a class=\"a-link-normal\" href=\"/-/en/375Heless-3-Pu-Windeln-28-35cm/dp/B00186HKDU/ref=zg_bs_3968910031_sccl_23/258-3517021-7899457?psc=1\" role=\"link\" tabindex=\"-1\"><div class=\"a-section a-spacing-mini _cDEzb_noop_3Xbw5\"><img alt=\"3 Pu-Windeln 28-35cm\" class=\"a-dynamic-image p13n-sc-dynamic-image p13n-product-image\" data-a-dynamic-image='{\"https://images-eu.ssl-images-amazon.com/images/I/71ZmP8g0EvL._AC_UL300_SR300,200_.jpg\":[300,200],\"https://images-eu.ssl-images-amazon.com/images/I/71ZmP8g0EvL._AC_UL600_SR600,400_.jpg\":[600,400],\"https://images-eu.ssl-images-amazon.com/images/I/71ZmP8g0EvL._AC_UL900_SR900,600_.jpg\":[900,600]}' height=\"200px\" src=\"https://images-eu.ssl-images-amazon.com/images/I/71ZmP8g0EvL._AC_UL300_SR300,200_.jpg\" style=\"max-width:300px;max-height:200px\"/></div></a>,\n",
       " <a class=\"a-link-normal\" href=\"/-/en/375Heless-3-Pu-Windeln-28-35cm/dp/B00186HKDU/ref=zg_bs_3968910031_sccl_23/258-3517021-7899457?psc=1\" role=\"link\"><span><div class=\"_cDEzb_p13n-sc-css-line-clamp-3_g3dy1\">3 Pu-Windeln 28-35cm</div></span></a>,\n",
       " <a class=\"a-link-normal\" href=\"/-/en/product-reviews/B00186HKDU/ref=zg_bs_3968910031_cr_sccl_23/258-3517021-7899457\" title=\"4.5 out of 5 stars\"><i class=\"a-icon a-icon-star-small a-star-small-4-5 aok-align-top\"><span class=\"a-icon-alt\">4.5 out of 5 stars</span></i> <span class=\"a-size-small\">1,543</span></a>,\n",
       " <a class=\"a-link-normal\" href=\"/-/en/375Heless-3-Pu-Windeln-28-35cm/dp/B00186HKDU/ref=zg_bs_3968910031_sccl_23/258-3517021-7899457?psc=1\" role=\"link\"><span class=\"a-color-secondary\">14 offers from <span class=\"a-size-base\"><span class=\"p13n-sc-price\">€3.09</span></span></span></a>,\n",
       " <a class=\"a-link-normal\" href=\"/-/en/Function-Adjustable-Backrest-Suitable-Tilt-Proof/dp/B07XHD3Y91/ref=zg_bs_3968910031_sccl_24/258-3517021-7899457?psc=1\" role=\"link\" tabindex=\"-1\"><div class=\"a-section a-spacing-mini _cDEzb_noop_3Xbw5\"><img alt=\"Hauck Baby Rocker Baby Bouncer Rocky from Disney, Rocking Function, Adjustable Backrest, Safety Belt and Carry Handles, Suita\" class=\"a-dynamic-image p13n-sc-dynamic-image p13n-product-image\" data-a-dynamic-image='{\"https://images-eu.ssl-images-amazon.com/images/I/611bvWRhjZL._AC_UL300_SR300,200_.jpg\":[300,200],\"https://images-eu.ssl-images-amazon.com/images/I/611bvWRhjZL._AC_UL600_SR600,400_.jpg\":[600,400],\"https://images-eu.ssl-images-amazon.com/images/I/611bvWRhjZL._AC_UL900_SR900,600_.jpg\":[900,600]}' height=\"200px\" src=\"https://images-eu.ssl-images-amazon.com/images/I/611bvWRhjZL._AC_UL300_SR300,200_.jpg\" style=\"max-width:300px;max-height:200px\"/></div></a>,\n",
       " <a class=\"a-link-normal\" href=\"/-/en/Function-Adjustable-Backrest-Suitable-Tilt-Proof/dp/B07XHD3Y91/ref=zg_bs_3968910031_sccl_24/258-3517021-7899457?psc=1\" role=\"link\"><span><div class=\"_cDEzb_p13n-sc-css-line-clamp-3_g3dy1\">Hauck Baby Rocker Baby Bouncer Rocky from Disney, Rocking Function, Adjustable Backrest, Safety Belt and Carry Handles, Suitable from Birth to 9 kg, Tilt-Proof and Portable Black</div></span></a>,\n",
       " <a class=\"a-link-normal\" href=\"/-/en/product-reviews/B07XHD3Y91/ref=zg_bs_3968910031_cr_sccl_24/258-3517021-7899457\" title=\"4.6 out of 5 stars\"><i class=\"a-icon a-icon-star-small a-star-small-4-5 aok-align-top\"><span class=\"a-icon-alt\">4.6 out of 5 stars</span></i> <span class=\"a-size-small\">1,284</span></a>,\n",
       " <a class=\"a-link-normal\" href=\"/-/en/Function-Adjustable-Backrest-Suitable-Tilt-Proof/dp/B07XHD3Y91/ref=zg_bs_3968910031_sccl_24/258-3517021-7899457?psc=1\" role=\"link\"><span class=\"a-color-secondary\">7 offers from <span class=\"a-size-base\"><span class=\"p13n-sc-price\">€29.00</span></span></span></a>,\n",
       " <a class=\"a-link-normal\" href=\"/-/en/Ravensburger-Zusammen-Together-Children-Educational/dp/B094VW8C63/ref=zg_bs_3968910031_sccl_25/258-3517021-7899457?psc=1\" role=\"link\" tabindex=\"-1\"><div class=\"a-section a-spacing-mini _cDEzb_noop_3Xbw5\"><img alt='Ravensburger 21402 \"Was Passt Zusammen?\" (\"What Fits Together\") and \"Mein Tier zu Mir\" (\"My Animal to Me\") Puzzle Game for Ch' class=\"a-dynamic-image p13n-sc-dynamic-image p13n-product-image\" data-a-dynamic-image='{\"https://images-eu.ssl-images-amazon.com/images/I/716XzhWm2GS._AC_UL300_SR300,200_.jpg\":[300,200],\"https://images-eu.ssl-images-amazon.com/images/I/716XzhWm2GS._AC_UL600_SR600,400_.jpg\":[600,400],\"https://images-eu.ssl-images-amazon.com/images/I/716XzhWm2GS._AC_UL900_SR900,600_.jpg\":[900,600]}' height=\"200px\" src=\"https://images-eu.ssl-images-amazon.com/images/I/716XzhWm2GS._AC_UL300_SR300,200_.jpg\" style=\"max-width:300px;max-height:200px\"/></div></a>,\n",
       " <a class=\"a-link-normal\" href=\"/-/en/Ravensburger-Zusammen-Together-Children-Educational/dp/B094VW8C63/ref=zg_bs_3968910031_sccl_25/258-3517021-7899457?psc=1\" role=\"link\"><span><div class=\"_cDEzb_p13n-sc-css-line-clamp-3_g3dy1\">Ravensburger 21402 \"Was Passt Zusammen?\" (\"What Fits Together\") and \"Mein Tier zu Mir\" (\"My Animal to Me\") Puzzle Game for Children from 1 and 1/2 Years, Educational Game, 1-4 Players, German Version</div></span></a>,\n",
       " <a class=\"a-link-normal\" href=\"/-/en/product-reviews/B094VW8C63/ref=zg_bs_3968910031_cr_sccl_25/258-3517021-7899457\" title=\"4.7 out of 5 stars\"><i class=\"a-icon a-icon-star-small a-star-small-4-5 aok-align-top\"><span class=\"a-icon-alt\">4.7 out of 5 stars</span></i> <span class=\"a-size-small\">2,760</span></a>,\n",
       " <a class=\"a-link-normal a-text-normal\" href=\"/-/en/Ravensburger-Zusammen-Together-Children-Educational/dp/B094VW8C63/ref=zg_bs_3968910031_sccl_25/258-3517021-7899457?psc=1\" role=\"link\"><div class=\"a-row\"><span class=\"a-size-base a-color-price\"><span class=\"_cDEzb_p13n-sc-price_3mJ9Z\">€26.01</span></span></div></a>,\n",
       " <a class=\"a-link-normal\" href=\"/-/en/249064-Mobile-Musical-Mechanism-Melody/dp/B00FN4NLKY/ref=zg_bs_3968910031_sccl_26/258-3517021-7899457?psc=1\" role=\"link\" tabindex=\"-1\"><div class=\"a-section a-spacing-mini _cDEzb_noop_3Xbw5\"><img alt=\"Fehn 249064 Music Mobile Musical Mechanism, Melody - Sleep and Kindlein\" class=\"a-dynamic-image p13n-sc-dynamic-image p13n-product-image\" data-a-dynamic-image='{\"https://images-eu.ssl-images-amazon.com/images/I/41ayLb3zRkL._AC_UL300_SR300,200_.jpg\":[300,200],\"https://images-eu.ssl-images-amazon.com/images/I/41ayLb3zRkL._AC_UL600_SR600,400_.jpg\":[600,400],\"https://images-eu.ssl-images-amazon.com/images/I/41ayLb3zRkL._AC_UL900_SR900,600_.jpg\":[900,600]}' height=\"200px\" src=\"https://images-eu.ssl-images-amazon.com/images/I/41ayLb3zRkL._AC_UL300_SR300,200_.jpg\" style=\"max-width:300px;max-height:200px\"/></div></a>,\n",
       " <a class=\"a-link-normal\" href=\"/-/en/249064-Mobile-Musical-Mechanism-Melody/dp/B00FN4NLKY/ref=zg_bs_3968910031_sccl_26/258-3517021-7899457?psc=1\" role=\"link\"><span><div class=\"_cDEzb_p13n-sc-css-line-clamp-3_g3dy1\">Fehn 249064 Music Mobile Musical Mechanism, Melody - Sleep and Kindlein</div></span></a>,\n",
       " <a class=\"a-link-normal\" href=\"/-/en/product-reviews/B00FN4NLKY/ref=zg_bs_3968910031_cr_sccl_26/258-3517021-7899457\" title=\"4.4 out of 5 stars\"><i class=\"a-icon a-icon-star-small a-star-small-4-5 aok-align-top\"><span class=\"a-icon-alt\">4.4 out of 5 stars</span></i> <span class=\"a-size-small\">1,976</span></a>,\n",
       " <a class=\"a-link-normal\" href=\"/-/en/249064-Mobile-Musical-Mechanism-Melody/dp/B00FN4NLKY/ref=zg_bs_3968910031_sccl_26/258-3517021-7899457?psc=1\" role=\"link\"><span class=\"a-color-secondary\">1 offer from <span class=\"a-size-base\"><span class=\"p13n-sc-price\">€14.99</span></span></span></a>,\n",
       " <a class=\"a-link-normal\" href=\"/-/en/mobile-musical-lit-b%C3%A9b%C3%A9-Bells/dp/B087938S24/ref=zg_bs_3968910031_sccl_27/258-3517021-7899457?psc=1\" role=\"link\" tabindex=\"-1\"><div class=\"a-section a-spacing-mini _cDEzb_noop_3Xbw5\"><img alt=\"2 Bed Bells\" class=\"a-dynamic-image p13n-sc-dynamic-image p13n-product-image\" data-a-dynamic-image='{\"https://images-eu.ssl-images-amazon.com/images/I/61i4d3OkvNL._AC_UL300_SR300,200_.jpg\":[300,200],\"https://images-eu.ssl-images-amazon.com/images/I/61i4d3OkvNL._AC_UL600_SR600,400_.jpg\":[600,400],\"https://images-eu.ssl-images-amazon.com/images/I/61i4d3OkvNL._AC_UL900_SR900,600_.jpg\":[900,600]}' height=\"200px\" src=\"https://images-eu.ssl-images-amazon.com/images/I/61i4d3OkvNL._AC_UL300_SR300,200_.jpg\" style=\"max-width:300px;max-height:200px\"/></div></a>,\n",
       " <a class=\"a-link-normal\" href=\"/-/en/mobile-musical-lit-b%C3%A9b%C3%A9-Bells/dp/B087938S24/ref=zg_bs_3968910031_sccl_27/258-3517021-7899457?psc=1\" role=\"link\"><span><div class=\"_cDEzb_p13n-sc-css-line-clamp-3_g3dy1\">2 Bed Bells</div></span></a>,\n",
       " <a class=\"a-link-normal\" href=\"/-/en/product-reviews/B087938S24/ref=zg_bs_3968910031_cr_sccl_27/258-3517021-7899457\" title=\"4.0 out of 5 stars\"><i class=\"a-icon a-icon-star-small a-star-small-4 aok-align-top\"><span class=\"a-icon-alt\">4.0 out of 5 stars</span></i> <span class=\"a-size-small\">689</span></a>,\n",
       " <a class=\"a-link-normal\" href=\"/-/en/mobile-musical-lit-b%C3%A9b%C3%A9-Bells/dp/B087938S24/ref=zg_bs_3968910031_sccl_27/258-3517021-7899457?psc=1\" role=\"link\"><span class=\"a-color-secondary\">2 offers from <span class=\"a-size-base\"><span class=\"p13n-sc-price\">€25.37</span></span></span></a>,\n",
       " <a class=\"a-link-normal\" href=\"/-/en/KIDIZ%C2%AE-Settings-Foldable-Soothing-Natural/dp/B09Q4J2K2Z/ref=zg_bs_3968910031_sccl_28/258-3517021-7899457?psc=1\" role=\"link\" tabindex=\"-1\"><div class=\"a-section a-spacing-mini _cDEzb_noop_3Xbw5\"><img alt=\"KIDIZ® Baby Rocker Baby Swing with 5 Speed Settings Foldable Baby Rocker Swing Baby High Chair with Play Arch Toys 5 Soothing\" class=\"a-dynamic-image p13n-sc-dynamic-image p13n-product-image\" data-a-dynamic-image='{\"https://images-eu.ssl-images-amazon.com/images/I/81SRPQV3PWL._AC_UL300_SR300,200_.jpg\":[300,200],\"https://images-eu.ssl-images-amazon.com/images/I/81SRPQV3PWL._AC_UL600_SR600,400_.jpg\":[600,400],\"https://images-eu.ssl-images-amazon.com/images/I/81SRPQV3PWL._AC_UL900_SR900,600_.jpg\":[900,600]}' height=\"200px\" src=\"https://images-eu.ssl-images-amazon.com/images/I/81SRPQV3PWL._AC_UL300_SR300,200_.jpg\" style=\"max-width:300px;max-height:200px\"/></div></a>,\n",
       " <a class=\"a-link-normal\" href=\"/-/en/KIDIZ%C2%AE-Settings-Foldable-Soothing-Natural/dp/B09Q4J2K2Z/ref=zg_bs_3968910031_sccl_28/258-3517021-7899457?psc=1\" role=\"link\"><span><div class=\"_cDEzb_p13n-sc-css-line-clamp-3_g3dy1\">KIDIZ® Baby Rocker Baby Swing with 5 Speed Settings Foldable Baby Rocker Swing Baby High Chair with Play Arch Toys 5 Soothing Natural Sounds Beige</div></span></a>,\n",
       " <a class=\"a-link-normal\" href=\"/-/en/product-reviews/B09Q4J2K2Z/ref=zg_bs_3968910031_cr_sccl_28/258-3517021-7899457\" title=\"4.4 out of 5 stars\"><i class=\"a-icon a-icon-star-small a-star-small-4-5 aok-align-top\"><span class=\"a-icon-alt\">4.4 out of 5 stars</span></i> <span class=\"a-size-small\">52</span></a>,\n",
       " <a class=\"a-link-normal a-text-normal\" href=\"/-/en/KIDIZ%C2%AE-Settings-Foldable-Soothing-Natural/dp/B09Q4J2K2Z/ref=zg_bs_3968910031_sccl_28/258-3517021-7899457?psc=1\" role=\"link\"><div class=\"a-row\"><span class=\"a-size-base a-color-price\"><span class=\"_cDEzb_p13n-sc-price_3mJ9Z\">€69.80</span></span></div></a>,\n",
       " <a class=\"a-link-normal\" href=\"/-/en/Richgv-Months-Crinkle-Fabric-Quiet/dp/B08DNLXPBP/ref=zg_bs_3968910031_sccl_29/258-3517021-7899457?psc=1\" role=\"link\" tabindex=\"-1\"><div class=\"a-section a-spacing-mini _cDEzb_noop_3Xbw5\"><img alt=\"Richgv Baby Book Baby Toy from 0 3 6 12 Months, 3D Dino Crinkle Book Baby Fabric Book Feel Book Baby from 3 Months, Pram Toy \" class=\"a-dynamic-image p13n-sc-dynamic-image p13n-product-image\" data-a-dynamic-image='{\"https://images-eu.ssl-images-amazon.com/images/I/71c7A96bI3L._AC_UL300_SR300,200_.jpg\":[300,200],\"https://images-eu.ssl-images-amazon.com/images/I/71c7A96bI3L._AC_UL600_SR600,400_.jpg\":[600,400],\"https://images-eu.ssl-images-amazon.com/images/I/71c7A96bI3L._AC_UL900_SR900,600_.jpg\":[900,600]}' height=\"200px\" src=\"https://images-eu.ssl-images-amazon.com/images/I/71c7A96bI3L._AC_UL300_SR300,200_.jpg\" style=\"max-width:300px;max-height:200px\"/></div></a>,\n",
       " <a class=\"a-link-normal\" href=\"/-/en/Richgv-Months-Crinkle-Fabric-Quiet/dp/B08DNLXPBP/ref=zg_bs_3968910031_sccl_29/258-3517021-7899457?psc=1\" role=\"link\"><span><div class=\"_cDEzb_p13n-sc-css-line-clamp-3_g3dy1\">Richgv Baby Book Baby Toy from 0 3 6 12 Months, 3D Dino Crinkle Book Baby Fabric Book Feel Book Baby from 3 Months, Pram Toy from 0 Months, Quiet Book Baby 1 Year Gift Boy Girl</div></span></a>,\n",
       " <a class=\"a-link-normal\" href=\"/-/en/product-reviews/B08DNLXPBP/ref=zg_bs_3968910031_cr_sccl_29/258-3517021-7899457\" title=\"4.5 out of 5 stars\"><i class=\"a-icon a-icon-star-small a-star-small-4-5 aok-align-top\"><span class=\"a-icon-alt\">4.5 out of 5 stars</span></i> <span class=\"a-size-small\">2,162</span></a>,\n",
       " <a class=\"a-link-normal\" href=\"/-/en/Richgv-Months-Crinkle-Fabric-Quiet/dp/B08DNLXPBP/ref=zg_bs_3968910031_sccl_29/258-3517021-7899457?psc=1\" role=\"link\"><span class=\"a-color-secondary\">1 offer from <span class=\"a-size-base\"><span class=\"p13n-sc-price\">€13.99</span></span></span></a>,\n",
       " <a class=\"a-link-normal\" href=\"/-/en/Baby-Einstein-Opuss-Ocean-Discovery/dp/B08V49DHNW/ref=zg_bs_3968910031_sccl_30/258-3517021-7899457?psc=1\" role=\"link\" tabindex=\"-1\"><div class=\"a-section a-spacing-mini _cDEzb_noop_3Xbw5\"><img alt=\"Baby Einstein, Opus's Ocean of Discovery - Water Mat, Play Mat Fillable with Water, Inflatable Sides, 6 Sea Animals Under The\" class=\"a-dynamic-image p13n-sc-dynamic-image p13n-product-image\" data-a-dynamic-image='{\"https://images-eu.ssl-images-amazon.com/images/I/91qIYIdeKxL._AC_UL300_SR300,200_.jpg\":[300,200],\"https://images-eu.ssl-images-amazon.com/images/I/91qIYIdeKxL._AC_UL600_SR600,400_.jpg\":[600,400],\"https://images-eu.ssl-images-amazon.com/images/I/91qIYIdeKxL._AC_UL900_SR900,600_.jpg\":[900,600]}' height=\"200px\" src=\"https://images-eu.ssl-images-amazon.com/images/I/91qIYIdeKxL._AC_UL300_SR300,200_.jpg\" style=\"max-width:300px;max-height:200px\"/></div></a>,\n",
       " <a class=\"a-link-normal\" href=\"/-/en/Baby-Einstein-Opuss-Ocean-Discovery/dp/B08V49DHNW/ref=zg_bs_3968910031_sccl_30/258-3517021-7899457?psc=1\" role=\"link\"><span><div class=\"_cDEzb_p13n-sc-css-line-clamp-3_g3dy1\">Baby Einstein, Opus's Ocean of Discovery - Water Mat, Play Mat Fillable with Water, Inflatable Sides, 6 Sea Animals Under The Surface, From Birth</div></span></a>,\n",
       " <a class=\"a-link-normal\" href=\"/-/en/product-reviews/B08V49DHNW/ref=zg_bs_3968910031_cr_sccl_30/258-3517021-7899457\" title=\"4.3 out of 5 stars\"><i class=\"a-icon a-icon-star-small a-star-small-4-5 aok-align-top\"><span class=\"a-icon-alt\">4.3 out of 5 stars</span></i> <span class=\"a-size-small\">1,408</span></a>,\n",
       " <a class=\"a-link-normal a-text-normal\" href=\"/-/en/Baby-Einstein-Opuss-Ocean-Discovery/dp/B08V49DHNW/ref=zg_bs_3968910031_sccl_30/258-3517021-7899457?psc=1\" role=\"link\"><div class=\"a-row\"><span class=\"a-size-base a-color-price\"><span class=\"_cDEzb_p13n-sc-price_3mJ9Z\">€20.99</span></span></div></a>]"
      ]
     },
     "execution_count": 12,
     "metadata": {},
     "output_type": "execute_result"
    }
   ],
   "source": [
    "links"
   ]
  },
  {
   "cell_type": "code",
   "execution_count": 13,
   "id": "74ef9f46",
   "metadata": {},
   "outputs": [],
   "source": [
    "link = links[0].get('href')"
   ]
  },
  {
   "cell_type": "code",
   "execution_count": 14,
   "id": "2ab5e21f",
   "metadata": {},
   "outputs": [],
   "source": [
    "product_list = \"https://amazon.com\" + link"
   ]
  },
  {
   "cell_type": "code",
   "execution_count": 15,
   "id": "81d43c5d",
   "metadata": {},
   "outputs": [
    {
     "data": {
      "text/plain": [
       "'https://amazon.com/-/en/Big-Bobby-Car-Classic-Red/dp/B00004YTTD/ref=zg_bs_3968910031_sccl_1/258-3517021-7899457?psc=1'"
      ]
     },
     "execution_count": 15,
     "metadata": {},
     "output_type": "execute_result"
    }
   ],
   "source": [
    "product_list"
   ]
  },
  {
   "cell_type": "code",
   "execution_count": null,
   "id": "47af27fb",
   "metadata": {},
   "outputs": [],
   "source": [
    "new_webpage = requests.get(product_list, headers=HEADERS)"
   ]
  },
  {
   "cell_type": "code",
   "execution_count": null,
   "id": "6b3cf798",
   "metadata": {},
   "outputs": [],
   "source": [
    "new_webpage"
   ]
  },
  {
   "cell_type": "code",
   "execution_count": null,
   "id": "43b0cb13",
   "metadata": {},
   "outputs": [],
   "source": [
    "# Soup Object containiang all data\n",
    "new_soup = BeautifulSoup(new_webpage.content, \"html.parser\")"
   ]
  },
  {
   "cell_type": "code",
   "execution_count": null,
   "id": "56a91145",
   "metadata": {},
   "outputs": [],
   "source": [
    "new_soup"
   ]
  },
  {
   "cell_type": "code",
   "execution_count": null,
   "id": "12c472d2",
   "metadata": {},
   "outputs": [],
   "source": [
    "new_soup.find(\"span\", attrs={\"id\":'productTitle'}).text.strip()"
   ]
  },
  {
   "cell_type": "code",
   "execution_count": null,
   "id": "9b7da0be",
   "metadata": {},
   "outputs": [],
   "source": [
    "new_soup.find(\"span\", attrs={\"class\":'a-price a-text-price a-size-medium'}).find(\"span\", attrs={\"class\": \"a-offscreen\"}).text"
   ]
  },
  {
   "cell_type": "code",
   "execution_count": null,
   "id": "a6ffef0a",
   "metadata": {},
   "outputs": [],
   "source": [
    "new_soup.find(\"span\", attrs={\"class\":'a-icon-alt'}).text"
   ]
  },
  {
   "cell_type": "code",
   "execution_count": null,
   "id": "29ac3c9f",
   "metadata": {},
   "outputs": [],
   "source": []
  }
 ],
 "metadata": {
  "kernelspec": {
   "display_name": "Python 3 (ipykernel)",
   "language": "python",
   "name": "python3"
  },
  "language_info": {
   "codemirror_mode": {
    "name": "ipython",
    "version": 3
   },
   "file_extension": ".py",
   "mimetype": "text/x-python",
   "name": "python",
   "nbconvert_exporter": "python",
   "pygments_lexer": "ipython3",
   "version": "3.10.9"
  }
 },
 "nbformat": 4,
 "nbformat_minor": 5
}
